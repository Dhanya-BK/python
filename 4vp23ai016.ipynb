{
 "cells": [
  {
   "cell_type": "markdown",
   "id": "226ad76e",
   "metadata": {},
   "source": [
    "## Exp 1"
   ]
  },
  {
   "cell_type": "code",
   "execution_count": 2,
   "id": "a6085b7b",
   "metadata": {},
   "outputs": [
    {
     "name": "stdout",
     "output_type": "stream",
     "text": [
      "Enter the number of digits:3\n",
      "Enter a 3-digit integer:123\n",
      "1\n",
      "2\n",
      "3\n"
     ]
    }
   ],
   "source": [
    "n=int(input(\"Enter the number of digits:\"))\n",
    "if n>0:\n",
    "    number=int(input(f\"Enter a {n}-digit integer:\"))\n",
    "    if number>=10**(n-1) and number<10**n:\n",
    "        for i in range(n):\n",
    "            digit=number//(10**(n-1))\n",
    "            print(digit)\n",
    "            number%=10**(n-1)\n",
    "            n-=1\n",
    "    else:\n",
    "         print(f\"Please enter a {n}-digit integer\")\n",
    "else:\n",
    "    print(\"Please enter a valid number of digits(greater than 0)\")"
   ]
  },
  {
   "cell_type": "markdown",
   "id": "7884ecc0",
   "metadata": {},
   "source": [
    "## Exp 2"
   ]
  },
  {
   "cell_type": "code",
   "execution_count": 7,
   "id": "3a8b4ca5",
   "metadata": {},
   "outputs": [
    {
     "name": "stdout",
     "output_type": "stream",
     "text": [
      "Enter the first number:8\n",
      "Enter the second number:4\n",
      "Enter the third number:7\n",
      "Enter the fourth number:2\n",
      "The sorted number are: 2 4 7 8\n"
     ]
    }
   ],
   "source": [
    "a=int(input(\"Enter the first number:\"))\n",
    "b=int(input(\"Enter the second number:\"))\n",
    "c=int(input(\"Enter the third number:\"))\n",
    "d=int(input(\"Enter the fourth number:\"))\n",
    "if a>b:a,b=b,a\n",
    "if c>d:c,d=d,c\n",
    "if a>c:a,c=c,a\n",
    "if b>d:b,d=d,b\n",
    "if b>c:b,c=c,b\n",
    "print(\"The sorted number are:\",a,b,c,d)"
   ]
  },
  {
   "cell_type": "markdown",
   "id": "783016cc",
   "metadata": {},
   "source": [
    "## Exp 4"
   ]
  },
  {
   "cell_type": "code",
   "execution_count": 9,
   "id": "e2671d33",
   "metadata": {},
   "outputs": [
    {
     "name": "stdout",
     "output_type": "stream",
     "text": [
      "Enter an n-digit number:34543\n",
      "Palindrome\n"
     ]
    }
   ],
   "source": [
    "number=int(input(\"Enter an n-digit number:\"))\n",
    "original_number=number\n",
    "reversed_number=0\n",
    "while number>0:\n",
    "    digit=number%10\n",
    "    reversed_number=reversed_number*10+digit\n",
    "    number//=10\n",
    "if original_number==reversed_number:\n",
    "    print(\"Palindrome\")\n",
    "else:\n",
    "    print(\"Not a palindrome\")"
   ]
  },
  {
   "cell_type": "markdown",
   "id": "980f683e",
   "metadata": {},
   "source": [
    "## Exp 5"
   ]
  },
  {
   "cell_type": "code",
   "execution_count": 11,
   "id": "4eef96cc",
   "metadata": {},
   "outputs": [
    {
     "name": "stdout",
     "output_type": "stream",
     "text": [
      "enter an integer for multiplication table:6\n",
      "Multiplication table for 6:\n",
      "6x1=6\n",
      "6x2=12\n",
      "6x3=18\n",
      "6x4=24\n",
      "6x5=30\n",
      "6x6=36\n",
      "6x7=42\n",
      "6x8=48\n",
      "6x9=54\n",
      "6x10=60\n"
     ]
    }
   ],
   "source": [
    "n=int(input(\"enter an integer for multiplication table:\"))\n",
    "print(f'Multiplication table for {n}:')\n",
    "for i in range(1,11):\n",
    "    result=n*i\n",
    "    print(f\"{n}x{i}={result}\")\n",
    "    "
   ]
  },
  {
   "cell_type": "markdown",
   "id": "92ac7e4f",
   "metadata": {},
   "source": [
    "## Exp 3"
   ]
  },
  {
   "cell_type": "code",
   "execution_count": 11,
   "id": "9562d09d",
   "metadata": {},
   "outputs": [
    {
     "name": "stdout",
     "output_type": "stream",
     "text": [
      "Enter the number of elements:6\n",
      "Enter number 1:3\n",
      "Enter number 2:4\n",
      "Enter number 3:5\n",
      "Enter number 4:6\n",
      "Enter number 5:8\n",
      "Enter number 6:9\n",
      "Mean:5.833333333333333\n",
      "Median:5.5\n",
      "Mode:No mode\n",
      "Sample variance:5.366666666666667\n",
      "Population variance:4.472222222222222\n",
      "Sample standard deviation:2.316606713852541\n",
      "Population standard deviation:2.1147629234082532\n"
     ]
    }
   ],
   "source": [
    "n=int(input(\"Enter the number of elements:\"))\n",
    "numbers=[int(input(f\"Enter number {i+1}:\")) for i in range(n)]\n",
    "mean=sum(numbers)/n\n",
    "numbers.sort()\n",
    "if n%2==0:\n",
    "    median=(numbers[n//2-1]+numbers[n//2])/2\n",
    "else:\n",
    "    median=(numbers[n//2])\n",
    "frequency={num:numbers.count(num) for num in numbers}\n",
    "max_count=max(frequency.values())\n",
    "mode=[k for k,v in frequency.items() if v==max_count]\n",
    "if len(mode)==n:\n",
    "    mode=\"No mode\"\n",
    "mean_difference_squared_sum=sum((x-mean)**2 for x in numbers)\n",
    "variance_sample=mean_difference_squared_sum/(n-1) if n>1 else 0\n",
    "variance_population=mean_difference_squared_sum/n\n",
    "std_deviation_sample=variance_sample**0.5\n",
    "std_deviation_population=variance_population**0.5\n",
    "std_deviation=variance_population**0.5\n",
    "print(f\"Mean:{mean}\")\n",
    "print(f\"Median:{median}\")\n",
    "print(f\"Mode:{mode}\")\n",
    "print(f\"Sample variance:{variance_sample}\")\n",
    "print(f\"Population variance:{variance_population}\")\n",
    "print(f\"Sample standard deviation:{std_deviation_sample}\")\n",
    "print(f\"Population standard deviation:{std_deviation_population}\")\n",
    "\n",
    "             "
   ]
  },
  {
   "cell_type": "markdown",
   "id": "4f7e134c",
   "metadata": {},
   "source": [
    "## Exp 6"
   ]
  },
  {
   "cell_type": "code",
   "execution_count": 3,
   "id": "277b0dc2",
   "metadata": {},
   "outputs": [
    {
     "name": "stdout",
     "output_type": "stream",
     "text": [
      "Enter the integer number:253\n",
      "The reverse number is :352\n"
     ]
    }
   ],
   "source": [
    "number=int(input(\"Enter the integer number:\"))\n",
    "revs_number=0\n",
    "while(number>0):\n",
    "    remainder=number%10\n",
    "    revs_number=(revs_number*10)+remainder\n",
    "    number=number//10\n",
    "print(\"The reverse number is :{}\".format(revs_number))"
   ]
  },
  {
   "cell_type": "markdown",
   "id": "3e93d377",
   "metadata": {},
   "source": [
    "## Exp 7"
   ]
  },
  {
   "cell_type": "code",
   "execution_count": 6,
   "id": "afad6c86",
   "metadata": {},
   "outputs": [
    {
     "name": "stdout",
     "output_type": "stream",
     "text": [
      "Enter the user input:56789\n",
      "Enter the 1st position which you want to swap:1\n",
      "Enter the 2nd position which you want to swap:4\n",
      "Original numner: 56789\n",
      "Interchanged number: 86759\n"
     ]
    }
   ],
   "source": [
    "def interchange_digits(number,pos1,pos2):\n",
    "    number_str=str(number)\n",
    "    number_list=list(number_str)\n",
    "    number_list[pos1-1],number_list[pos2-1]=number_list[pos2-1],number_list[pos1-1]\n",
    "    interchanged_number=int(''.join(number_list))\n",
    "    return interchanged_number\n",
    "number=int(input('Enter the user input:'))\n",
    "pos1=int(input('Enter the 1st position which you want to swap:'))\n",
    "pos2=int(input('Enter the 2nd position which you want to swap:'))\n",
    "interchanged_number=interchange_digits(number,pos1,pos2)\n",
    "print(\"Original numner:\",number)\n",
    "print(\"Interchanged number:\",interchanged_number)\n"
   ]
  },
  {
   "cell_type": "markdown",
   "id": "138f4063",
   "metadata": {},
   "source": [
    "## EXP 8"
   ]
  },
  {
   "cell_type": "code",
   "execution_count": 6,
   "id": "565b1c7b",
   "metadata": {},
   "outputs": [
    {
     "name": "stdout",
     "output_type": "stream",
     "text": [
      "['Hello', 'Good', 'How', 'Simple']\n"
     ]
    }
   ],
   "source": [
    "def capitalize_strings(string_list):\n",
    "    return[s.capitalize() for s in string_list]\n",
    "input_strings=['hello','good','how','simple']\n",
    "capitalized_string=capitalize_strings(input_strings)\n",
    "print(capitalized_string)"
   ]
  },
  {
   "cell_type": "markdown",
   "id": "fbd7efe7",
   "metadata": {},
   "source": [
    "## EXP 9"
   ]
  },
  {
   "cell_type": "code",
   "execution_count": 14,
   "id": "d6093b1b",
   "metadata": {},
   "outputs": [
    {
     "name": "stdout",
     "output_type": "stream",
     "text": [
      "Enter a sentenceA big black bug bit a big black dog\n",
      "Duplicate words and their counts\n",
      "a:2\n",
      "big:2\n",
      "black:2\n"
     ]
    }
   ],
   "source": [
    "def count_duplicate_words(sentence):\n",
    "    words=sentence.split()\n",
    "    word_count={}\n",
    "    for word in words:\n",
    "        word=word.lower()\n",
    "        if word in word_count:\n",
    "            word_count[word]+=1\n",
    "        else:\n",
    "            word_count[word]=1\n",
    "    duplicates={word:count for word,count in word_count.items() if count>1}\n",
    "    if duplicates:\n",
    "        print(\"Duplicate words and their counts\")\n",
    "        for word,count in duplicates.items():\n",
    "            print(f\"{word}:{count}\")\n",
    "    else:\n",
    "        print(\"No duplicate words found\")\n",
    "sentence=input(\"Enter a sentence\")\n",
    "count_duplicate_words(sentence)"
   ]
  },
  {
   "cell_type": "markdown",
   "id": "6b7fd481",
   "metadata": {},
   "source": [
    "## EXP 10:"
   ]
  },
  {
   "cell_type": "code",
   "execution_count": 2,
   "id": "2e55a9f6",
   "metadata": {},
   "outputs": [
    {
     "name": "stdout",
     "output_type": "stream",
     "text": [
      "Numpy array\n",
      "[[1 2 3]\n",
      " [4 5 6]]\n",
      "-----------------------------\n",
      "Row Sum\n",
      "[ 6 15]\n",
      "Column Sum\n",
      "[5 7 9]\n",
      "-----------------------------\n",
      "Row mean\n",
      "[2. 5.]\n",
      "Column mean\n",
      "[2.5 3.5 4.5]\n",
      "-----------------------------\n",
      "Row STD\n",
      "[0.81649658 0.81649658]\n",
      "Column STD\n",
      "[1.5 1.5 1.5]\n"
     ]
    }
   ],
   "source": [
    "from numpy import asarray\n",
    "data=[[1,2,3],[4,5,6]]\n",
    "data=asarray(data)\n",
    "print(\"Numpy array\")\n",
    "print(data)\n",
    "print(\"-----------------------------\")\n",
    "totalr=data.sum(axis=1)\n",
    "totalc=data.sum(axis=0)\n",
    "print(\"Row Sum\")\n",
    "print(totalr)\n",
    "print(\"Column Sum\")\n",
    "print(totalc)\n",
    "print(\"-----------------------------\")\n",
    "meanr=data.mean(axis=1)\n",
    "meanc=data.mean(axis=0)\n",
    "print(\"Row mean\")\n",
    "print(meanr)\n",
    "print(\"Column mean\")\n",
    "print(meanc)\n",
    "print(\"-----------------------------\")\n",
    "stdr=data.std(axis=1)\n",
    "stdc=data.std(axis=0)\n",
    "print(\"Row STD\")\n",
    "print(stdr)\n",
    "print(\"Column STD\")\n",
    "print(stdc)\n"
   ]
  },
  {
   "cell_type": "markdown",
   "id": "42557520",
   "metadata": {},
   "source": [
    "## EXP 11"
   ]
  },
  {
   "cell_type": "code",
   "execution_count": 6,
   "id": "532c38e8",
   "metadata": {},
   "outputs": [
    {
     "name": "stdout",
     "output_type": "stream",
     "text": [
      "Coloumn names are Name,Department,Birthday_month\n",
      "\tDhanya works in the AIML department and was born in March\n",
      "\tAkshaya works in the AIML department and was born in April\n",
      "Processed 3 lines.\n"
     ]
    }
   ],
   "source": [
    "import csv\n",
    "file=open('Sample.csv',mode='r')\n",
    "csv_reader=csv.reader(file,delimiter=',')\n",
    "line_count=0\n",
    "for row in csv_reader:\n",
    "    if line_count==0:\n",
    "        print(f'Coloumn names are {\",\".join(row)}')\n",
    "        line_count+=1\n",
    "    else:\n",
    "        print(f'\\t{row[0]} works in the {row[1]} department and was born in {row[2]}')\n",
    "        line_count+=1\n",
    "print(f'Processed {line_count} lines.')\n",
    "file.close()"
   ]
  },
  {
   "cell_type": "markdown",
   "id": "4c370449",
   "metadata": {},
   "source": [
    "## Exp:12"
   ]
  },
  {
   "cell_type": "code",
   "execution_count": 13,
   "id": "d1be8f5d",
   "metadata": {},
   "outputs": [
    {
     "name": "stdout",
     "output_type": "stream",
     "text": [
      "{'Tables_1': {'Name': ['Alice', 'Bob'], 'Age': [24, 27]}, 'Tables_2': {'Country': ['France', 'India'], 'Capital': ['Paris', 'Delhi']}}\n"
     ]
    }
   ],
   "source": [
    "import pandas as pd\n",
    "def read_html_to_dict(html_file):\n",
    "    tables=pd.read_html(html_file)\n",
    "    tables_dict={}\n",
    "    for i,table in enumerate(tables):\n",
    "        table_dict=table.to_dict(orient='list')\n",
    "        tables_dict[f'Tables_{i+1}']=table_dict\n",
    "    return tables_dict\n",
    "if __name__=='__main__':\n",
    "    html_file='sample.html'\n",
    "    result=read_html_to_dict(html_file)\n",
    "    print(result)\n"
   ]
  },
  {
   "cell_type": "code",
   "execution_count": null,
   "id": "06c55b00",
   "metadata": {},
   "outputs": [],
   "source": []
  },
  {
   "cell_type": "code",
   "execution_count": null,
   "id": "3cbc115a",
   "metadata": {},
   "outputs": [],
   "source": []
  }
 ],
 "metadata": {
  "kernelspec": {
   "display_name": "Python 3 (ipykernel)",
   "language": "python",
   "name": "python3"
  },
  "language_info": {
   "codemirror_mode": {
    "name": "ipython",
    "version": 3
   },
   "file_extension": ".py",
   "mimetype": "text/x-python",
   "name": "python",
   "nbconvert_exporter": "python",
   "pygments_lexer": "ipython3",
   "version": "3.10.9"
  }
 },
 "nbformat": 4,
 "nbformat_minor": 5
}
